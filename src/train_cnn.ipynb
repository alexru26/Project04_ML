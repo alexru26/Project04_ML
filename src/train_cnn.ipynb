{
 "cells": [
  {
   "metadata": {},
   "cell_type": "markdown",
   "source": [
    "# 1 Preliminaries\n",
    "## 1.1 Import"
   ],
   "id": "2919073e8dc4af60"
  },
  {
   "metadata": {
    "collapsed": true,
    "ExecuteTime": {
     "end_time": "2024-12-06T16:36:49.854193Z",
     "start_time": "2024-12-06T16:36:49.851088Z"
    }
   },
   "cell_type": "code",
   "outputs": [],
   "execution_count": 9,
   "source": [
    "import tensorflow as tf\n",
    "import keras.api.layers as layers\n",
    "from keras.api.callbacks import EarlyStopping\n",
    "from keras.api.losses import BinaryCrossentropy\n",
    "from keras.api.metrics import BinaryAccuracy\n",
    "from keras.api.models import Model\n",
    "from keras.api.preprocessing import image_dataset_from_directory\n",
    "from keras.api.optimizers import Adam\n",
    "import pandas as pd"
   ],
   "id": "initial_id"
  },
  {
   "metadata": {},
   "cell_type": "markdown",
   "source": "## 1.2 Load images",
   "id": "218cd384e3ae84bd"
  },
  {
   "metadata": {
    "ExecuteTime": {
     "end_time": "2024-12-06T16:36:49.890150Z",
     "start_time": "2024-12-06T16:36:49.867129Z"
    }
   },
   "cell_type": "code",
   "source": [
    "landmarks_ds_train = image_dataset_from_directory(\n",
    "    '../data/landmark',\n",
    "    labels='inferred',\n",
    "    label_mode='binary',\n",
    "    image_size=(512, 512),\n",
    "    shuffle=True,\n",
    ")\n",
    "\n",
    "no_landmarks_ds_train = image_dataset_from_directory(\n",
    "    '../data/no_landmark',\n",
    "    labels='inferred',\n",
    "    label_mode='binary',\n",
    "    image_size=(512, 512),\n",
    "    shuffle=True,\n",
    ")"
   ],
   "id": "686f9fbc3a73e48a",
   "outputs": [
    {
     "name": "stdout",
     "output_type": "stream",
     "text": [
      "Found 1 files belonging to 2 classes.\n"
     ]
    }
   ],
   "execution_count": 10
  },
  {
   "metadata": {},
   "cell_type": "markdown",
   "source": [
    "# 2 Train model\n",
    "## 2.1 Create model"
   ],
   "id": "8c2e9485e55d9ec3"
  },
  {
   "metadata": {
    "ExecuteTime": {
     "end_time": "2024-12-06T16:36:49.901463Z",
     "start_time": "2024-12-06T16:36:49.896952Z"
    }
   },
   "cell_type": "code",
   "source": [
    "data_augmentation_layers = [\n",
    "    layers.RandomFlip(\"horizontal\"),\n",
    "    layers.RandomRotation(0.1),\n",
    "]\n",
    "\n",
    "def data_augmentation(images):\n",
    "    for layer in data_augmentation_layers:\n",
    "        images = layer(images)\n",
    "    return images"
   ],
   "id": "9998a283e123d318",
   "outputs": [],
   "execution_count": 11
  },
  {
   "metadata": {
    "ExecuteTime": {
     "end_time": "2024-12-06T16:36:49.968410Z",
     "start_time": "2024-12-06T16:36:49.907208Z"
    }
   },
   "cell_type": "code",
   "source": [
    "inputs = layers.Input(shape=(512, 512, 3))\n",
    "x = data_augmentation(inputs)\n",
    "x = layers.Rescaling(1./255)(x)\n",
    "\n",
    "previous_block_activation = x\n",
    "\n",
    "for size in [256, 512, 728]:\n",
    "    x = layers.Activation(\"relu\")(x)\n",
    "    x = layers.SeparableConv2D(size, 3, padding=\"same\")(x)\n",
    "    x = layers.BatchNormalization()(x)\n",
    "\n",
    "    x = layers.Activation(\"relu\")(x)\n",
    "    x = layers.SeparableConv2D(size, 3, padding=\"same\")(x)\n",
    "    x = layers.BatchNormalization()(x)\n",
    "\n",
    "    x = layers.MaxPooling2D(3, strides=2, padding=\"same\")(x)\n",
    "\n",
    "    # Project residual\n",
    "    residual = layers.Conv2D(size, 1, strides=2, padding=\"same\")(\n",
    "        previous_block_activation\n",
    "    )\n",
    "    x = layers.add([x, residual])  # Add back residual\n",
    "    previous_block_activation = x  # Set aside next residual\n",
    "\n",
    "x = layers.SeparableConv2D(1024, 3, padding=\"same\")(x)\n",
    "x = layers.BatchNormalization()(x)\n",
    "x = layers.Activation(\"relu\")(x)\n",
    "\n",
    "x = layers.GlobalAveragePooling2D()(x)\n",
    "x = layers.Dropout(0.25)(x)\n",
    "outputs = layers.Dense(1, activation=None)(x)\n",
    "\n",
    "model = Model(inputs=inputs, outputs=outputs)"
   ],
   "id": "afe5ba8166a036cf",
   "outputs": [],
   "execution_count": 12
  },
  {
   "metadata": {},
   "cell_type": "markdown",
   "source": "## 2.2 Train model",
   "id": "61979aabc842b300"
  },
  {
   "metadata": {},
   "cell_type": "code",
   "outputs": [],
   "execution_count": null,
   "source": [
    "callbacks = [\n",
    "    EarlyStopping(monitor=\"val_loss\", patience=5),\n",
    "]\n",
    "\n",
    "model.compile(\n",
    "    optimizer=Adam(3e-4),\n",
    "    loss=BinaryCrossentropy(from_logits=True),\n",
    "    metrics=[BinaryAccuracy(name=\"acc\")],\n",
    ")\n",
    "\n",
    "history = model.fit(\n",
    "    landmarks_ds_train,\n",
    "    epochs=25,\n",
    "    callbacks=callbacks,\n",
    "    validation_split=0.2,\n",
    ")\n",
    "\n",
    "history_df = pd.DataFrame(history.history)\n",
    "history_df.loc[:, ['loss', 'accuracy']].plot() # plot loss and accuracy\n",
    "\n",
    "model.save('../models/ai.keras') # save model"
   ],
   "id": "1f3167cf622c02c7"
  }
 ],
 "metadata": {
  "kernelspec": {
   "display_name": "Python 3",
   "language": "python",
   "name": "python3"
  },
  "language_info": {
   "codemirror_mode": {
    "name": "ipython",
    "version": 2
   },
   "file_extension": ".py",
   "mimetype": "text/x-python",
   "name": "python",
   "nbconvert_exporter": "python",
   "pygments_lexer": "ipython2",
   "version": "2.7.6"
  }
 },
 "nbformat": 4,
 "nbformat_minor": 5
}
